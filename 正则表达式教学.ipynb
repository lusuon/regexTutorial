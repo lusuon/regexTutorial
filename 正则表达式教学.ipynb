{
 "cells": [
  {
   "cell_type": "markdown",
   "metadata": {},
   "source": [
    "## 正则表达式（regular expression，简称regex）是一种用于匹配特定模式（pattern）字符串的工具，这么说可能有点抽象，要想理解正则表达式及其功用，最好的办法是了解它们可以解决什么样的问题。\n",
    "\n",
    "### 那么，请考虑以下几个场景：\n",
    "\n",
    "你正在搜索一个文件，这个文件里包含着单词car（不区分字母大小写），但你并不想把包含着字符串car的其他单词（比如scar、carry和incarcerate等）也找出来。\n",
    "\n",
    "你打算用一种应用服务器来动态地生成一个Web网页以显示从某个数据库里检索出来的文本。在那些文本里可能包含着一些URL地址字符串，而你希望那些URL地址在最终生成的页面里是可点击的（也就是说，你打算生成一些合法的HTML代码—— ——而不仅仅是普通的文本）。 \n",
    "\n",
    "你创建了一份包含着一张表单的Web页面，这张表单用来收集用户信息，其中包括一个电子邮件地址。你需要检查用户给出的电子邮件地址是否符合正确的语法格式。 \n",
    "\n",
    "你正在编辑一段源代码并且要把所有的size都替换为isize，但这种替换仅限于单词size本身而不涉及那些包含着字符串size的其他单词。 \n",
    "\n",
    "你正在显示一份计算机文件系统中所有文件的清单，但你只想把文件名里包含着Application字样的文件列举出来。 \n",
    "\n",
    "你正在把一些数据导入应用程序。那些数据以制表符作为分隔符，但你的应用程序要支持CSV格式（每条记录独占一行，同一条记录里的各项数据之间用逗号分隔并允许被括在引号里面）。\n",
    "\n",
    "你需要在文件里搜索某个特定的文本，但你只想把出现在特定位置的（比如每行的开头或是每条语句的结尾）找出来。\n",
    "\n",
    "以上场景都是大家在日常生活中经常会遇到的问题，对于不会编程的人，这种看似简单的任务如果手动执行，将会是一场噩梦。\n",
    "即使你会编程，这些问题的解决方案也可能会十分复杂。比较朴素的办法是，用一些循环来依次遍历那些单词或字符，用一系列if语句来进行检查，这往往意味着你需要使用大量的标志来标记你已经找到了什么，你还没有找到什么，还需要检查空白字符和特殊字符，等等。而这一切都需要以手工方式来进行。比手动执行还是好不了多少。\n",
    "\n",
    "为了解决这个问题，正则表达式应运而生。上述问题实际上都有都可用某种特定的模式表达，换成人话，就是一些精心构造的语句，或者说一些由文本和特殊指令构成的高度简练的字符串来解决，比如像下面这样的语句：\n",
    "\\b[Cc][Aa][Rr]\\b\n",
    "当然，你现在多半还看不懂这一行，先别着急。你很快就会知道它的含义是什么。"
   ]
  },
  {
   "cell_type": "code",
   "execution_count": 1,
   "metadata": {},
   "outputs": [],
   "source": [
    "# 首先，要在python中使用正则表达式的话 re模块是必要的\n",
    "import re"
   ]
  },
  {
   "cell_type": "markdown",
   "metadata": {},
   "source": [
    "## 1.从最简单的开始：匹配单个字符"
   ]
  },
  {
   "cell_type": "markdown",
   "metadata": {},
   "source": [
    "### 1.1 匹配纯文本"
   ]
  },
  {
   "cell_type": "code",
   "execution_count": 2,
   "metadata": {},
   "outputs": [
    {
     "data": {
      "text/plain": [
       "['cat', 'cat', 'cat']"
      ]
     },
     "execution_count": 2,
     "metadata": {},
     "output_type": "execute_result"
    }
   ],
   "source": [
    "# 这是最简单的正则表达式，即纯文本\n",
    "cat = 'cat' # 它将会匹配文本中的'cat'字符\n",
    "text = 'I love cats, any cat, every cat.'\n",
    "re.findall(cat,text) #找出文本中所有的猫"
   ]
  },
  {
   "cell_type": "markdown",
   "metadata": {},
   "source": [
    "### 1.2 匹配任意字符"
   ]
  },
  {
   "cell_type": "code",
   "execution_count": 85,
   "metadata": {},
   "outputs": [
    {
     "data": {
      "text/plain": [
       "['cat', 'cot']"
      ]
     },
     "execution_count": 85,
     "metadata": {},
     "output_type": "execute_result"
    }
   ],
   "source": [
    "# 当然，上面的做法没什么意义，这回我们可以升个级，来匹配任意字符\n",
    "# 这里我们要用到'.'\n",
    "c_any_for_once_t = 'c.t' # 注意，此处的点号（.）是通配符，表达匹配任意字符【一次】！\n",
    "text = 'cat,cot,coot' # 猜猜coot会被匹配到吗？\n",
    "re.findall(c_any_for_once_t,text)"
   ]
  },
  {
   "cell_type": "code",
   "execution_count": 9,
   "metadata": {},
   "outputs": [
    {
     "data": {
      "text/plain": [
       "['I',\n",
       " ' ',\n",
       " 'n',\n",
       " 'e',\n",
       " 'e',\n",
       " 'd',\n",
       " ' ',\n",
       " 't',\n",
       " 'o',\n",
       " ' ',\n",
       " 'f',\n",
       " 'i',\n",
       " 'n',\n",
       " 'd',\n",
       " ' ',\n",
       " 't',\n",
       " 'h',\n",
       " 'e',\n",
       " ' ',\n",
       " 'd',\n",
       " 'o',\n",
       " 't',\n",
       " '.']"
      ]
     },
     "execution_count": 9,
     "metadata": {},
     "output_type": "execute_result"
    }
   ],
   "source": [
    "# 从上面的例子中，我们可以发现.的威力非常强大\n",
    "# 当如果我们只想匹配出.本身怎么办？\n",
    "string_with_dot = 'I need to find the dot.'\n",
    "# 仅仅这样可以吗？\n",
    "pure_dot = '.'\n",
    "re.findall(pure_dot,string_with_dot)"
   ]
  },
  {
   "cell_type": "code",
   "execution_count": 10,
   "metadata": {},
   "outputs": [
    {
     "data": {
      "text/plain": [
       "['.']"
      ]
     },
     "execution_count": 10,
     "metadata": {},
     "output_type": "execute_result"
    }
   ],
   "source": [
    "# 从上面例子来看，完全不行！想来也是，单纯的点号只能匹配单个任意字符\n",
    "# 为了强调我们只想要单纯的点本身，而不让它带有任何含义，我们要对其进行转义\n",
    "# 请出转义字符\\，关于转移字符，我们等下会详细讲述\n",
    "trans_dot = '\\.'\n",
    "re.findall(trans_dot,string_with_dot) # 这下终于能找出.了"
   ]
  },
  {
   "cell_type": "markdown",
   "metadata": {},
   "source": [
    "#### 小结：正则表达式由文本构成，为了实现模糊匹配，可以使用点（.）来进行匹配"
   ]
  },
  {
   "cell_type": "markdown",
   "metadata": {},
   "source": [
    "## 2.匹配一组字符"
   ]
  },
  {
   "cell_type": "markdown",
   "metadata": {},
   "source": [
    "### 2.1 匹配多个字符中的某一个"
   ]
  },
  {
   "cell_type": "code",
   "execution_count": 11,
   "metadata": {},
   "outputs": [],
   "source": [
    "# 这次，我们更进一步地提出新的需求，我们想要匹配的不只是猫（cat），还有蝙蝠（bat）\n",
    "cats_and_bats_and_more = 'cat,bat,dog,pig,rat'\n",
    "# 你能只用一个表达式满足新的需求吗？"
   ]
  },
  {
   "cell_type": "markdown",
   "metadata": {},
   "source": [
    "### 2.2 利用字符集合区间[]"
   ]
  },
  {
   "cell_type": "markdown",
   "metadata": {},
   "source": [
    "#### [ ]表示字符集合，将会匹配集合内出现的任意一个字符，在上面的例子中，为了匹配bat与cat，我们要用集合来匹配第一位：[bc]"
   ]
  },
  {
   "cell_type": "code",
   "execution_count": 12,
   "metadata": {},
   "outputs": [
    {
     "data": {
      "text/plain": [
       "['cat', 'bat']"
      ]
     },
     "execution_count": 12,
     "metadata": {},
     "output_type": "execute_result"
    }
   ],
   "source": [
    "find_cat_and_rat = '[bc]at' # 匹配三个字符，第一个属于bc其中之一即可\n",
    "re.findall(find_cat_and_rat,cats_and_bats_and_more) "
   ]
  },
  {
   "cell_type": "markdown",
   "metadata": {},
   "source": [
    "####  来练习一下字符集合区间的使用吧！以宿舍号为例子试着匹配一下。"
   ]
  },
  {
   "cell_type": "code",
   "execution_count": 87,
   "metadata": {},
   "outputs": [
    {
     "data": {
      "text/plain": [
       "['A101', 'B101', 'A102', 'B345', 'B967']"
      ]
     },
     "execution_count": 87,
     "metadata": {},
     "output_type": "execute_result"
    }
   ],
   "source": [
    "# 一个小练习，假如我们想匹配宿舍号：A101，B102,B345\n",
    "dom = 'We have valid domitories:A101,B101,A102,B02,B345,B967,'\n",
    "find_dom = '[AB][0123456789][0123456789][0123456789]' # 引出*\n",
    "re.findall(find_dom,dom) "
   ]
  },
  {
   "cell_type": "markdown",
   "metadata": {},
   "source": [
    "#### 上面的例子虽然效果不错，但用[0123456789]来匹配还是有点多，能在给力点吗？"
   ]
  },
  {
   "cell_type": "code",
   "execution_count": 14,
   "metadata": {},
   "outputs": [
    {
     "data": {
      "text/plain": [
       "['A101', 'B101', 'A102', 'B345', 'B967']"
      ]
     },
     "execution_count": 14,
     "metadata": {},
     "output_type": "execute_result"
    }
   ],
   "source": [
    "# 当然可以!对于常用的匹配需求，正则表达式提供一些方便的方法，在集合区间内试着加入连字符：\n",
    "find_dom = '[AB][0-9][0-9][0-9]'# [0-9]与上面的[0123456789]完全等价\n",
    "re.findall(find_dom,dom)"
   ]
  },
  {
   "cell_type": "markdown",
   "metadata": {},
   "source": [
    "#### 连字符的使用不仅可用于数字，也能用于字母"
   ]
  },
  {
   "cell_type": "code",
   "execution_count": 29,
   "metadata": {},
   "outputs": [
    {
     "data": {
      "text/plain": [
       "['FacT', 'FACT']"
      ]
     },
     "execution_count": 29,
     "metadata": {},
     "output_type": "execute_result"
    }
   ],
   "source": [
    "# 字符区间也不仅仅限于数字，还能有字母\n",
    "# [A-Z]，[a-z]，[A-Ta-c]（A到T的大写字母与a到c的小写字母）\n",
    "example = 'FacT,fact,FACT'\n",
    "reg = '[A-Ta-c][A-Ta-c][A-Ta-c][A-Ta-c]'\n",
    "re.findall(reg,example)"
   ]
  },
  {
   "cell_type": "markdown",
   "metadata": {},
   "source": [
    "### 2.3 取非匹配：既然字符区间能匹配内部任意字符，我们也能将其逆转"
   ]
  },
  {
   "cell_type": "markdown",
   "metadata": {},
   "source": [
    "#### 回到提取宿舍号的例子里，假设我们现在有汉字开头的宿舍号，你需要找到除了B开头以外的所有宿舍号\n",
    "#### 这时，最简单的想法就是排除B开头的，要如何做到呢？只需在区间的开头加入^即可"
   ]
  },
  {
   "cell_type": "code",
   "execution_count": 89,
   "metadata": {},
   "outputs": [
    {
     "data": {
      "text/plain": [
       "['A101', 'A102', 'C123', 'D255', '甲277', '乙167', '丙207']"
      ]
     },
     "execution_count": 89,
     "metadata": {},
     "output_type": "execute_result"
    }
   ],
   "source": [
    "dom = 'We have valid domitories:A101,B101,A102,B02,B345,B967,C123,D255,甲277,乙167,丙207'\n",
    "find_dom = '[^B][0-9][0-9][0-9]' # 匹配四个字符，\n",
    "re.findall(find_dom,dom)"
   ]
  },
  {
   "cell_type": "markdown",
   "metadata": {},
   "source": [
    "### 总结：[]用来定义一个字符集合，表达只要出现在集合内的字符，如果加上了^，表达取非，只要不出现在集合内的字符"
   ]
  },
  {
   "cell_type": "markdown",
   "metadata": {},
   "source": [
    "## 3. 元字符"
   ]
  },
  {
   "cell_type": "markdown",
   "metadata": {},
   "source": [
    "### 3.1 对特殊字符转义"
   ]
  },
  {
   "cell_type": "code",
   "execution_count": 21,
   "metadata": {},
   "outputs": [
    {
     "data": {
      "text/plain": [
       "['[1]', '[2]', '[3]', '[4]', '[5]']"
      ]
     },
     "execution_count": 21,
     "metadata": {},
     "output_type": "execute_result"
    }
   ],
   "source": [
    "# 在开始新的一节之前，先给大家介绍一下元字符，它是正则表达式有特殊含义的字符，如之前：\n",
    "# 用于匹配任意字符的. 定义字符集合的[ 与 ] \n",
    "# 如果我们只想匹配以上字符本身呢？于是就得请出我们的转义字符——反斜杠\\\n",
    "# 一个特殊字符前加\\就表示转义，字符前加上\\，对于元字符，会让其表达其本身的意义；对于一些普通字符，会让其表达特殊的含义\n",
    "\n",
    "example = 'I need to match [] and number: [1][2][3][4][5]'\n",
    "find_square_case = '\\[[0-9]\\]' # 匹配方括号本身\n",
    "\n",
    "re.findall(find_square_case,example)\n"
   ]
  },
  {
   "cell_type": "markdown",
   "metadata": {},
   "source": [
    "### 3.2 匹配空白字符"
   ]
  },
  {
   "cell_type": "markdown",
   "metadata": {},
   "source": [
    "#### 有些时候，我们需要对空白字符进行匹配，正则表达式也考虑到了这种情况："
   ]
  },
  {
   "cell_type": "markdown",
   "metadata": {},
   "source": [
    "#### 3.2.1 \\s 表示空格"
   ]
  },
  {
   "cell_type": "code",
   "execution_count": 92,
   "metadata": {},
   "outputs": [
    {
     "data": {
      "text/plain": [
       "['naughty cat']"
      ]
     },
     "execution_count": 92,
     "metadata": {},
     "output_type": "execute_result"
    }
   ],
   "source": [
    "# 假设我们想在以下的字符串内找出naughty cat(带有空格)\n",
    "cats = 'lovely cat, naughty cat, naughtycat'\n",
    "match_space = 'naughty\\scat'\n",
    "re.findall(match_space,cats)"
   ]
  },
  {
   "cell_type": "markdown",
   "metadata": {},
   "source": [
    "#### 3.2.2 \\n 表达换行符"
   ]
  },
  {
   "cell_type": "code",
   "execution_count": 101,
   "metadata": {},
   "outputs": [
    {
     "name": "stdout",
     "output_type": "stream",
     "text": [
      "This is a\n",
      "cat!\n",
      "It's not a\n",
      "dog!\n"
     ]
    }
   ],
   "source": [
    "# 首先读入一个文件：test.txt\n",
    "f = open('test.txt')\n",
    "content = f.read() \n",
    "print(content)"
   ]
  },
  {
   "cell_type": "code",
   "execution_count": 102,
   "metadata": {},
   "outputs": [
    {
     "data": {
      "text/plain": [
       "\"This is a\\ncat!\\nIt's not a\\ndog!\""
      ]
     },
     "execution_count": 102,
     "metadata": {},
     "output_type": "execute_result"
    }
   ],
   "source": [
    "# 从上面的输出中，我们发现，完整的一个句子被分割成了2行，如果我们想完整地获取一句，该怎么办?\n",
    "# 我们先来看看句子的实际结构\n",
    "content"
   ]
  },
  {
   "cell_type": "code",
   "execution_count": 103,
   "metadata": {},
   "outputs": [
    {
     "data": {
      "text/plain": [
       "['This is a\\ncat!']"
      ]
     },
     "execution_count": 103,
     "metadata": {},
     "output_type": "execute_result"
    }
   ],
   "source": [
    "# 从上面的例子中，我们可以看到，在换行的地方，出现了\\n\n",
    "# 根据我们之前的经验，要匹配出多行，必须将\\n也匹配上\n",
    "nextline_match = 'This\\sis\\sa\\ncat!'\n",
    "re.findall(nextline_match,content)"
   ]
  },
  {
   "cell_type": "markdown",
   "metadata": {},
   "source": [
    "### 3.3 对特定字符类型匹配"
   ]
  },
  {
   "cell_type": "code",
   "execution_count": 30,
   "metadata": {},
   "outputs": [
    {
     "data": {
      "text/plain": [
       "['A101', 'B101', 'A102', 'B345', 'B967']"
      ]
     },
     "execution_count": 30,
     "metadata": {},
     "output_type": "execute_result"
    }
   ],
   "source": [
    "# 上面我们尝试了将元字符转义成普通字符，也存在一些普通字符，可以将其转义成有特殊含义的字符\n",
    "# \\d 任何一个数字字符[0-9]\n",
    "# \\D 任何一个非数字字符[^0-9]\n",
    "# \\w 匹配任何字母数字字符（不分大小写）以及下划线字符，等价于[a-zA-Z0-9_]\n",
    "# \\W 上面的大写形式，表达取上面的非，匹配任何【非】字母数字字符（不分大小写）以及下划线字符[^a-zA-Z0-9_]\n",
    "\n",
    "# 还记得我们之前写的匹配宿舍号吗？我们可以将它改写成更简单的形式\n",
    "dom = 'We have valid domitories:A101,B101,A102,B02,B345,B967,C123,D255,甲277,乙167,丙207'\n",
    "find_dom = '[AB]\\d\\d\\d' # 将0-9 改写成 \\d 是等价的\n",
    "re.findall(find_dom,dom)"
   ]
  },
  {
   "cell_type": "markdown",
   "metadata": {},
   "source": [
    "## 4. 重复匹配"
   ]
  },
  {
   "cell_type": "markdown",
   "metadata": {},
   "source": [
    "### 4.1 匹配多个"
   ]
  },
  {
   "cell_type": "code",
   "execution_count": 34,
   "metadata": {},
   "outputs": [
    {
     "name": "stdout",
     "output_type": "stream",
     "text": [
      "['A', 'B', 'A101', 'B101', 'A102', 'B02', 'B345', 'B967']\n",
      "['A101', 'B101', 'A102', 'B02', 'B345', 'B967']\n"
     ]
    }
   ],
   "source": [
    "# 回想下上面的例子，我们为了匹配宿舍号手写了3个\\d\n",
    "# 如果是匹配身份证号呢？难道要18个\\d？这肯定是不现实的\n",
    "# 正则表达式也考虑到这个问题，于是提出了重复匹配的概念\n",
    "\n",
    "# *是用来匹配多个重复字符的元字符，表达匹配该字符0-无限次\n",
    "# +也是用来匹配多个重复字符的元字符，表达匹配该字符至少1-无限次\n",
    "# 我们来尝试下改写我们的匹配宿舍正则\n",
    "\n",
    "# 这次我们改变下待匹配的字符串：\n",
    "dom = 'We have valid domitories in buliding A and B:A101,B101,A102,B02,B345,B967'\n",
    "star_reg = '[AB]\\d*'\n",
    "print(re.findall(star_reg,dom))\n",
    "plus_reg = '[AB]\\d+'\n",
    "print(re.findall(plus_reg,dom))"
   ]
  },
  {
   "cell_type": "markdown",
   "metadata": {},
   "source": [
    "### 4.2 可有可无的匹配"
   ]
  },
  {
   "cell_type": "code",
   "execution_count": 41,
   "metadata": {},
   "outputs": [
    {
     "data": {
      "text/plain": [
       "['http://google.com', 'https://microsoft.com']"
      ]
     },
     "execution_count": 41,
     "metadata": {},
     "output_type": "execute_result"
    }
   ],
   "source": [
    "# 可以看到，由于*允许指定字符不出现，于是我们匹配出了纯的A、B\n",
    "\n",
    "# 接下来介绍另一种元字符：？，它表达只匹配0-1次，换而言之，最多一次\n",
    "# 假如我们先匹配一些网址，它们以http或https开头，我们也许可以这么做\n",
    "websites = 'http://google.com,https://microsoft.com'\n",
    "star_reg = 'https*://[\\w\\.]*com' # 'https*'这部分表示：匹配http，而s可以出现0-无限次\n",
    "re.findall(star_reg,websites)"
   ]
  },
  {
   "cell_type": "code",
   "execution_count": 42,
   "metadata": {},
   "outputs": [
    {
     "data": {
      "text/plain": [
       "['http://google.com', 'https://microsoft.com', 'httpsssssss://baidu.com']"
      ]
     },
     "execution_count": 42,
     "metadata": {},
     "output_type": "execute_result"
    }
   ],
   "source": [
    "# 看起来很好，但如果有人存心想捣乱呢？\n",
    "dirty_websites = 'http://google.com,https://microsoft.com,httpsssssss://baidu.com'\n",
    "re.findall(star_reg,dirty_websites)"
   ]
  },
  {
   "cell_type": "code",
   "execution_count": 46,
   "metadata": {},
   "outputs": [
    {
     "data": {
      "text/plain": [
       "['http://google.com', 'https://microsoft.com']"
      ]
     },
     "execution_count": 46,
     "metadata": {},
     "output_type": "execute_result"
    }
   ],
   "source": [
    "# 噢！httpsssssss://baidu.com 被匹配上了，这肯定不是我们想要的\n",
    "# 这就是'？'出场的时候了,可以表示可有可无的含义\n",
    "question_mark_reg = 'https?://[\\w\\.]*com'\n",
    "re.findall(question_mark_reg,dirty_websites)"
   ]
  },
  {
   "cell_type": "markdown",
   "metadata": {},
   "source": [
    "### 4.3 指定匹配的重复次数"
   ]
  },
  {
   "cell_type": "code",
   "execution_count": 55,
   "metadata": {},
   "outputs": [
    {
     "data": {
      "text/plain": [
       "['A101', 'B101', 'A1023', 'B2202', 'B345', 'B967']"
      ]
     },
     "execution_count": 55,
     "metadata": {},
     "output_type": "execute_result"
    }
   ],
   "source": [
    "# 回到之前的宿舍号匹配的例子，要是宿舍扩建了，我们有四位数的宿舍呢？\n",
    "dom = 'We have valid domitories in buliding A and B:A101,B101,A1023,B2202,B345,B967'\n",
    "# 这时候我们就没办法使用.或*与?了，我们必须指定重复的次数\n",
    "restrict_number_reg = '[AB]\\d{3,4}' # 如果把4去掉，变成{3,},表达匹配至少3次-无限次；如果你把，忘记掉了，{3}将会表达仅匹配3次\n",
    "re.findall(restrict_number_reg,dom) "
   ]
  },
  {
   "cell_type": "markdown",
   "metadata": {},
   "source": [
    "### 4.4 防止过度匹配"
   ]
  },
  {
   "cell_type": "code",
   "execution_count": 56,
   "metadata": {},
   "outputs": [
    {
     "name": "stdout",
     "output_type": "stream",
     "text": [
      "只识别出一大组 ['[1][2][3][4]']\n",
      "能识别出多组 ['[1]', '[2]', '[3]', '[4]']\n"
     ]
    }
   ],
   "source": [
    "# 防止过度匹配：\n",
    "# 前面提到的通配符.与*虽然强大，但也要防止它过度匹配：\n",
    "example = '[1][2][3][4]'\n",
    "over_match = '\\[.*\\]'\n",
    "print('只识别出一大组',re.findall(over_match,example))\n",
    "lazy_match = '\\[.*?\\]'\n",
    "print('能识别出多组',re.findall(lazy_match,example))\n"
   ]
  },
  {
   "cell_type": "markdown",
   "metadata": {},
   "source": [
    "### 正则表达式的真正威力体现在重复匹配上，记住+，*，？的不同用法，并使用{}精确地控制重复次数。活用?进行懒惰匹配以提升通配的精度"
   ]
  },
  {
   "cell_type": "markdown",
   "metadata": {},
   "source": [
    "## 5. 位置匹配"
   ]
  },
  {
   "cell_type": "markdown",
   "metadata": {},
   "source": [
    "### 5.1 单词边界"
   ]
  },
  {
   "cell_type": "code",
   "execution_count": 72,
   "metadata": {},
   "outputs": [
    {
     "data": {
      "text/plain": [
       "['cat', 'cat']"
      ]
     },
     "execution_count": 72,
     "metadata": {},
     "output_type": "execute_result"
    }
   ],
   "source": [
    "# 回到最初的起点。我们现在所学的仅能告诉程序我们要匹配的内容本身，却不能控制其边界\n",
    "# 考虑下面的例子\n",
    "example = r'A catalog of cat.'\n",
    "# 把catalog里的cat也匹配进来了，这肯定不是我们想要的\n",
    "re.findall('cat',example)\n"
   ]
  },
  {
   "cell_type": "code",
   "execution_count": 73,
   "metadata": {},
   "outputs": [
    {
     "data": {
      "text/plain": [
       "['cat']"
      ]
     },
     "execution_count": 73,
     "metadata": {},
     "output_type": "execute_result"
    }
   ],
   "source": [
    "# 于是，可以引入单词边界的概念\n",
    "# \\b 用来匹配一个单词的开头和结尾\n",
    "boundry_reg = r'\\bcat\\b'\n",
    "re.findall(boundry_reg,example)"
   ]
  },
  {
   "cell_type": "markdown",
   "metadata": {},
   "source": [
    "### 5.2 字符串边界"
   ]
  },
  {
   "cell_type": "code",
   "execution_count": null,
   "metadata": {},
   "outputs": [],
   "source": [
    "#  匹配字符串的边界：开始(^)与结束($)\n",
    "#  ^表示当行字符串的开始，比如^www表示以www开头的字符串，注意区分，不在[]里面的是开始符，在里面的排除\n",
    "websites = 'www.qq.com, taobao.com, www.jd.com' # 我们想找出以www开头的网址\n",
    "start_with_www = '^www\\..*\\w'\n",
    "re.findall(start_with_www,websites)\n",
    "# $ 字符串结束"
   ]
  },
  {
   "cell_type": "markdown",
   "metadata": {},
   "source": [
    "### 6.1 寻找文件"
   ]
  },
  {
   "cell_type": "code",
   "execution_count": null,
   "metadata": {},
   "outputs": [],
   "source": [
    "# 最后，如何学好正则表达式？实践再实践，无它，唯手熟尔。给大家提供一个挺好用的正则表达式测试网站：\n",
    "# https://regex101.com/\n",
    "# 这个网站在境外，加载可能有点慢"
   ]
  }
 ],
 "metadata": {
  "kernelspec": {
   "display_name": "Python 3",
   "language": "python",
   "name": "python3"
  },
  "language_info": {
   "codemirror_mode": {
    "name": "ipython",
    "version": 3
   },
   "file_extension": ".py",
   "mimetype": "text/x-python",
   "name": "python",
   "nbconvert_exporter": "python",
   "pygments_lexer": "ipython3",
   "version": "3.7.0"
  }
 },
 "nbformat": 4,
 "nbformat_minor": 2
}
